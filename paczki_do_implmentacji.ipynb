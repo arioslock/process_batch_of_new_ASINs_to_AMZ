{
 "cells": [
  {
   "cell_type": "code",
   "execution_count": 38,
   "metadata": {},
   "outputs": [],
   "source": [
    "import pandas as pd\n",
    "import numpy as np"
   ]
  },
  {
   "cell_type": "code",
   "execution_count": 45,
   "metadata": {},
   "outputs": [],
   "source": [
    "def get_SKU (ASIN_SKU:dict, ASIN:str):\n",
    "    if ASIN in ASIN_SKU:\n",
    "        return ASIN_SKU[ASIN]"
   ]
  },
  {
   "cell_type": "code",
   "execution_count": 72,
   "metadata": {},
   "outputs": [],
   "source": [
    "def get_number(SKU:str):\n",
    "    if SKU is not None:\n",
    "        if len(SKU) < 12:\n",
    "            return SKU[0:len(SKU)-3]\n",
    "        else:\n",
    "            return 0\n",
    "    "
   ]
  },
  {
   "cell_type": "code",
   "execution_count": 80,
   "metadata": {},
   "outputs": [],
   "source": [
    "from datetime import datetime\n",
    "\n",
    "current_date = datetime.now()\n",
    "formatted_date = current_date.strftime('%d-%m-%Y')\n",
    "\n",
    "def get_package_for_Ovolt(path_ana,path_inv,country_code:str,package_size:int):\n",
    "    \n",
    "    print(\"ładuje pliki\")\n",
    "    all_checked = pd.read_excel(path_ana)\n",
    "    out = pd.read_csv(path_inv, sep='\\t')\n",
    "    print(\"pliki załadowane\")\n",
    "\n",
    "    temp = pd.DataFrame(out[['seller-sku','asin1']])\n",
    "    \n",
    "    asin_dict = {}\n",
    "    for index, row in temp.iterrows():\n",
    "        asin_dict[row['asin1']] = row['seller-sku']\n",
    "    \n",
    "    all_checked['SKU'] = [get_SKU(asin_dict, row) for row in all_checked['ASIN']]\n",
    "    all_checked['Number'] = [get_number(row) for row in all_checked['SKU']]\n",
    "    \n",
    "    all_checked = all_checked.drop_duplicates(subset=['ASIN', 'Product ID'], keep='first')\n",
    "    all_checked = all_checked.sort_values(by='Sales Rank', ascending=True)\n",
    "\n",
    "    profit = all_checked[((all_checked['Profit']>0) | (all_checked['Profit'].isna())) & all_checked['Number'].isna()]\n",
    "\n",
    "    all_checked.reset_index(inplace=True)\n",
    "    profit.reset_index(inplace=True)\n",
    "\n",
    "    max_value = pd.Series(all_checked['Number'])\n",
    "    max_value = max_value.dropna()\n",
    "    max_value = max_value.astype('int')\n",
    "    start = max_value.max() \n",
    "    increment = 1\n",
    "    print('numeruje komórki')\n",
    "    profit['Number'] = start + increment + profit.index\n",
    "    print('komórki ponumerowane')\n",
    "\n",
    "    profit['Number'] = profit['Number'].astype('int')\n",
    "    \n",
    "    def generate_sku(row):\n",
    "        return str(row['Number']) + f\"_{country_code}\"\n",
    "\n",
    "    profit['SKU'] = profit.apply(generate_sku, axis=1)\n",
    "\n",
    "    to_amazon = profit.head(package_size)\n",
    "    to_amazon = to_amazon[['SKU', 'ASIN', 'cena']]\n",
    "    to_amazon['cena'] = [row*2 for row in to_amazon['cena']]\n",
    "    print('zapisuje plik do xlsx')\n",
    "    to_amazon.to_excel(f\"F:\\\\Ovolt\\\\{country_code}_{str(package_size)}_{str(formatted_date)}.xlsx\", index=False)\n",
    "    print(f'plik zapisany: {country_code}_{str(package_size)}_{str(formatted_date)}.xlsx')\n",
    "    "
   ]
  },
  {
   "cell_type": "code",
   "execution_count": 81,
   "metadata": {},
   "outputs": [
    {
     "name": "stdout",
     "output_type": "stream",
     "text": [
      "ładuje pliki\n",
      "pliki załadowane\n",
      "numeruje komórki\n",
      "komórki ponumerowane\n"
     ]
    },
    {
     "name": "stderr",
     "output_type": "stream",
     "text": [
      "C:\\Users\\48575\\AppData\\Local\\Temp\\ipykernel_228\\4120099678.py:36: SettingWithCopyWarning: \n",
      "A value is trying to be set on a copy of a slice from a DataFrame.\n",
      "Try using .loc[row_indexer,col_indexer] = value instead\n",
      "\n",
      "See the caveats in the documentation: https://pandas.pydata.org/pandas-docs/stable/user_guide/indexing.html#returning-a-view-versus-a-copy\n",
      "  profit['Number'] = start + increment + profit.index\n",
      "C:\\Users\\48575\\AppData\\Local\\Temp\\ipykernel_228\\4120099678.py:39: SettingWithCopyWarning: \n",
      "A value is trying to be set on a copy of a slice from a DataFrame.\n",
      "Try using .loc[row_indexer,col_indexer] = value instead\n",
      "\n",
      "See the caveats in the documentation: https://pandas.pydata.org/pandas-docs/stable/user_guide/indexing.html#returning-a-view-versus-a-copy\n",
      "  profit['Number'] = profit['Number'].astype('int')\n",
      "C:\\Users\\48575\\AppData\\Local\\Temp\\ipykernel_228\\4120099678.py:44: SettingWithCopyWarning: \n",
      "A value is trying to be set on a copy of a slice from a DataFrame.\n",
      "Try using .loc[row_indexer,col_indexer] = value instead\n",
      "\n",
      "See the caveats in the documentation: https://pandas.pydata.org/pandas-docs/stable/user_guide/indexing.html#returning-a-view-versus-a-copy\n",
      "  profit['SKU'] = profit.apply(generate_sku, axis=1)\n"
     ]
    },
    {
     "name": "stdout",
     "output_type": "stream",
     "text": [
      "zapisuje plik do xlsx\n",
      "plik zapisany: FR_30000_25-08-2023.xlsx\n"
     ]
    }
   ],
   "source": [
    "get_package_for_Ovolt('G:\\\\Mój dysk\\\\Projekt\\\\P531 Ovolt\\\\Nowy folder (2)\\\\de-final.xlsx','F:\\\\Ovolt\\\\All+Listings+Report+08-25-2023.txt','FR',30000)"
   ]
  }
 ],
 "metadata": {
  "kernelspec": {
   "display_name": "Python 3",
   "language": "python",
   "name": "python3"
  },
  "language_info": {
   "codemirror_mode": {
    "name": "ipython",
    "version": 3
   },
   "file_extension": ".py",
   "mimetype": "text/x-python",
   "name": "python",
   "nbconvert_exporter": "python",
   "pygments_lexer": "ipython3",
   "version": "3.11.3"
  },
  "orig_nbformat": 4
 },
 "nbformat": 4,
 "nbformat_minor": 2
}
